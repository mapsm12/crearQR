{
 "cells": [
  {
   "cell_type": "code",
   "execution_count": 1,
   "metadata": {},
   "outputs": [],
   "source": [
    "import qrcode\n",
    "\n",
    "def generate_qr_code(url, file_name):\n",
    "    qr = qrcode.QRCode(\n",
    "        version=1,\n",
    "        error_correction=qrcode.constants.ERROR_CORRECT_H,\n",
    "        box_size=10,\n",
    "        border=4\n",
    "    )\n",
    "    qr.add_data(url)\n",
    "    qr.make(fit=True)\n",
    "    img = qr.make_image(fill_color=\"black\", back_color=\"white\")\n",
    "    img.save(file_name)\n",
    "\n",
    "# Ejemplo de uso\n",
    "url = \"https://www.ejemplo.com\"  # URL que deseas codificar en el QR\n",
    "file_name = \"codigo_qr.png\"  # Nombre del archivo de imagen del código QR\n",
    "\n",
    "generate_qr_code(url, file_name)\n"
   ]
  },
  {
   "cell_type": "code",
   "execution_count": 3,
   "metadata": {},
   "outputs": [
    {
     "name": "stderr",
     "output_type": "stream",
     "text": [
      "Exception in Tkinter callback\n",
      "Traceback (most recent call last):\n",
      "  File \"/Users/miguelandrade/opt/anaconda3/lib/python3.9/tkinter/__init__.py\", line 1892, in __call__\n",
      "    return self.func(*args)\n",
      "  File \"/var/folders/ty/3y6dblhx0h1d076pxyk3sh700000gn/T/ipykernel_38775/993899547.py\", line 15, in generate_qr_code\n",
      "    qr.make(fit=True)\n",
      "  File \"/Users/miguelandrade/opt/anaconda3/lib/python3.9/site-packages/qrcode/main.py\", line 160, in make\n",
      "    self.best_fit(start=self.version)\n",
      "  File \"/Users/miguelandrade/opt/anaconda3/lib/python3.9/site-packages/qrcode/main.py\", line 232, in best_fit\n",
      "    self.version = bisect_left(\n",
      "  File \"/Users/miguelandrade/opt/anaconda3/lib/python3.9/site-packages/qrcode/main.py\", line 115, in version\n",
      "    util.check_version(value)\n",
      "  File \"/Users/miguelandrade/opt/anaconda3/lib/python3.9/site-packages/qrcode/util.py\", line 185, in check_version\n",
      "    raise ValueError(f\"Invalid version (was {version}, expected 1 to 40)\")\n",
      "ValueError: Invalid version (was 41, expected 1 to 40)\n",
      "/var/folders/ty/3y6dblhx0h1d076pxyk3sh700000gn/T/ipykernel_38775/993899547.py:24: DeprecationWarning: ANTIALIAS is deprecated and will be removed in Pillow 10 (2023-07-01). Use Resampling.LANCZOS instead.\n",
      "  img_pil = img_pil.resize((300, 300), Image.ANTIALIAS)\n"
     ]
    }
   ],
   "source": [
    "import tkinter as tk\n",
    "from PIL import Image, ImageTk\n",
    "import qrcode\n",
    "import os\n",
    "\n",
    "def generate_qr_code():\n",
    "    url = url_entry.get()\n",
    "    qr = qrcode.QRCode(\n",
    "        version=1,\n",
    "        error_correction=qrcode.constants.ERROR_CORRECT_H,\n",
    "        box_size=10,\n",
    "        border=4\n",
    "    )\n",
    "    qr.add_data(url)\n",
    "    qr.make(fit=True)\n",
    "    img = qr.make_image(fill_color=\"black\", back_color=\"white\")\n",
    "    img_path = \"codigo_qr.png\"\n",
    "    img.save(img_path)\n",
    "\n",
    "    # Cargar la imagen generada utilizando PIL\n",
    "    img_pil = Image.open(img_path)\n",
    "\n",
    "    # Redimensionar la imagen para ajustar el campo de imagen\n",
    "    img_pil = img_pil.resize((300, 300), Image.ANTIALIAS)\n",
    "\n",
    "    # Crear objeto PhotoImage desde la imagen PIL\n",
    "    qr_image.img_tk = ImageTk.PhotoImage(img_pil)\n",
    "\n",
    "    # Actualizar el campo de imagen\n",
    "    qr_image.configure(image=qr_image.img_tk)\n",
    "\n",
    "def clear_image():\n",
    "    # Borrar el archivo de imagen\n",
    "    img_path = \"codigo_qr.png\"\n",
    "    if os.path.exists(img_path):\n",
    "        os.remove(img_path)\n",
    "\n",
    "    # Borrar la imagen del campo de imagen\n",
    "    qr_image.configure(image=None)\n",
    "\n",
    "# Crear ventana principal\n",
    "window = tk.Tk()\n",
    "window.title(\"Generador de Código QR\")\n",
    "\n",
    "# Crear etiqueta y campo de entrada para la URL\n",
    "url_label = tk.Label(window, text=\"URL:\")\n",
    "url_label.pack()\n",
    "url_entry = tk.Entry(window)\n",
    "url_entry.pack()\n",
    "\n",
    "# Crear botón para generar el código QR\n",
    "generate_button = tk.Button(window, text=\"Generar QR\", command=generate_qr_code)\n",
    "generate_button.pack()\n",
    "\n",
    "# Crear campo de imagen para mostrar el código QR generado\n",
    "qr_image = tk.Label(window)\n",
    "qr_image.pack()\n",
    "\n",
    "# Crear botón para borrar la imagen\n",
    "clear_button = tk.Button(window, text=\"Borrar Imagen\", command=clear_image)\n",
    "clear_button.pack()\n",
    "\n",
    "# Iniciar bucle de la interfaz gráfica\n",
    "window.mainloop()\n"
   ]
  },
  {
   "cell_type": "code",
   "execution_count": 5,
   "metadata": {},
   "outputs": [
    {
     "name": "stdout",
     "output_type": "stream",
     "text": [
      "Requirement already satisfied: nbconvert in /Users/miguelandrade/opt/anaconda3/lib/python3.9/site-packages (6.4.4)\n",
      "Requirement already satisfied: traitlets>=5.0 in /Users/miguelandrade/opt/anaconda3/lib/python3.9/site-packages (from nbconvert) (5.1.1)\n",
      "Requirement already satisfied: defusedxml in /Users/miguelandrade/opt/anaconda3/lib/python3.9/site-packages (from nbconvert) (0.7.1)\n",
      "Requirement already satisfied: pandocfilters>=1.4.1 in /Users/miguelandrade/opt/anaconda3/lib/python3.9/site-packages (from nbconvert) (1.5.0)\n",
      "Requirement already satisfied: mistune<2,>=0.8.1 in /Users/miguelandrade/opt/anaconda3/lib/python3.9/site-packages (from nbconvert) (0.8.4)\n",
      "Requirement already satisfied: testpath in /Users/miguelandrade/opt/anaconda3/lib/python3.9/site-packages (from nbconvert) (0.6.0)\n",
      "Requirement already satisfied: nbformat>=4.4 in /Users/miguelandrade/opt/anaconda3/lib/python3.9/site-packages (from nbconvert) (5.5.0)\n",
      "Requirement already satisfied: jupyter-core in /Users/miguelandrade/opt/anaconda3/lib/python3.9/site-packages (from nbconvert) (4.11.1)\n",
      "Requirement already satisfied: pygments>=2.4.1 in /Users/miguelandrade/opt/anaconda3/lib/python3.9/site-packages (from nbconvert) (2.11.2)\n",
      "Requirement already satisfied: nbclient<0.6.0,>=0.5.0 in /Users/miguelandrade/opt/anaconda3/lib/python3.9/site-packages (from nbconvert) (0.5.13)\n",
      "Requirement already satisfied: beautifulsoup4 in /Users/miguelandrade/opt/anaconda3/lib/python3.9/site-packages (from nbconvert) (4.11.1)\n",
      "Requirement already satisfied: jinja2>=2.4 in /Users/miguelandrade/opt/anaconda3/lib/python3.9/site-packages (from nbconvert) (2.11.3)\n",
      "Requirement already satisfied: jupyterlab-pygments in /Users/miguelandrade/opt/anaconda3/lib/python3.9/site-packages (from nbconvert) (0.1.2)\n",
      "Requirement already satisfied: entrypoints>=0.2.2 in /Users/miguelandrade/opt/anaconda3/lib/python3.9/site-packages (from nbconvert) (0.4)\n",
      "Requirement already satisfied: bleach in /Users/miguelandrade/opt/anaconda3/lib/python3.9/site-packages (from nbconvert) (4.1.0)\n",
      "Requirement already satisfied: MarkupSafe>=0.23 in /Users/miguelandrade/opt/anaconda3/lib/python3.9/site-packages (from jinja2>=2.4->nbconvert) (2.0.1)\n",
      "Requirement already satisfied: nest-asyncio in /Users/miguelandrade/opt/anaconda3/lib/python3.9/site-packages (from nbclient<0.6.0,>=0.5.0->nbconvert) (1.5.5)\n",
      "Requirement already satisfied: jupyter-client>=6.1.5 in /Users/miguelandrade/opt/anaconda3/lib/python3.9/site-packages (from nbclient<0.6.0,>=0.5.0->nbconvert) (7.3.4)\n",
      "Requirement already satisfied: jsonschema>=2.6 in /Users/miguelandrade/opt/anaconda3/lib/python3.9/site-packages (from nbformat>=4.4->nbconvert) (4.16.0)\n",
      "Requirement already satisfied: fastjsonschema in /Users/miguelandrade/opt/anaconda3/lib/python3.9/site-packages (from nbformat>=4.4->nbconvert) (2.16.2)\n",
      "Requirement already satisfied: soupsieve>1.2 in /Users/miguelandrade/opt/anaconda3/lib/python3.9/site-packages (from beautifulsoup4->nbconvert) (2.3.1)\n",
      "Requirement already satisfied: six>=1.9.0 in /Users/miguelandrade/opt/anaconda3/lib/python3.9/site-packages (from bleach->nbconvert) (1.16.0)\n",
      "Requirement already satisfied: webencodings in /Users/miguelandrade/opt/anaconda3/lib/python3.9/site-packages (from bleach->nbconvert) (0.5.1)\n",
      "Requirement already satisfied: packaging in /Users/miguelandrade/opt/anaconda3/lib/python3.9/site-packages (from bleach->nbconvert) (21.3)\n",
      "Requirement already satisfied: attrs>=17.4.0 in /Users/miguelandrade/opt/anaconda3/lib/python3.9/site-packages (from jsonschema>=2.6->nbformat>=4.4->nbconvert) (21.4.0)\n",
      "Requirement already satisfied: pyrsistent!=0.17.0,!=0.17.1,!=0.17.2,>=0.14.0 in /Users/miguelandrade/opt/anaconda3/lib/python3.9/site-packages (from jsonschema>=2.6->nbformat>=4.4->nbconvert) (0.18.0)\n",
      "Requirement already satisfied: pyzmq>=23.0 in /Users/miguelandrade/opt/anaconda3/lib/python3.9/site-packages (from jupyter-client>=6.1.5->nbclient<0.6.0,>=0.5.0->nbconvert) (23.2.0)\n",
      "Requirement already satisfied: python-dateutil>=2.8.2 in /Users/miguelandrade/opt/anaconda3/lib/python3.9/site-packages (from jupyter-client>=6.1.5->nbclient<0.6.0,>=0.5.0->nbconvert) (2.8.2)\n",
      "Requirement already satisfied: tornado>=6.0 in /Users/miguelandrade/opt/anaconda3/lib/python3.9/site-packages (from jupyter-client>=6.1.5->nbclient<0.6.0,>=0.5.0->nbconvert) (6.1)\n",
      "Requirement already satisfied: pyparsing!=3.0.5,>=2.0.2 in /Users/miguelandrade/opt/anaconda3/lib/python3.9/site-packages (from packaging->bleach->nbconvert) (3.0.9)\n"
     ]
    }
   ],
   "source": [
    "!pip install nbconvert\n",
    "\n"
   ]
  },
  {
   "cell_type": "code",
   "execution_count": 6,
   "metadata": {},
   "outputs": [
    {
     "name": "stdout",
     "output_type": "stream",
     "text": [
      "[NbConvertApp] Converting notebook crearQR.ipynb to script\n",
      "[NbConvertApp] Writing 2313 bytes to crearQR.py\n"
     ]
    }
   ],
   "source": [
    "!jupyter nbconvert --to script crearQR.ipynb"
   ]
  },
  {
   "cell_type": "code",
   "execution_count": 7,
   "metadata": {},
   "outputs": [
    {
     "name": "stdout",
     "output_type": "stream",
     "text": [
      "Requirement already satisfied: pyinstaller in /Users/miguelandrade/opt/anaconda3/lib/python3.9/site-packages (5.13.0)\n",
      "Requirement already satisfied: pyinstaller-hooks-contrib>=2021.4 in /Users/miguelandrade/opt/anaconda3/lib/python3.9/site-packages (from pyinstaller) (2023.5)\n",
      "Requirement already satisfied: altgraph in /Users/miguelandrade/opt/anaconda3/lib/python3.9/site-packages (from pyinstaller) (0.17.3)\n",
      "Requirement already satisfied: macholib>=1.8 in /Users/miguelandrade/opt/anaconda3/lib/python3.9/site-packages (from pyinstaller) (1.16.2)\n",
      "Requirement already satisfied: setuptools>=42.0.0 in /Users/miguelandrade/opt/anaconda3/lib/python3.9/site-packages (from pyinstaller) (63.4.1)\n"
     ]
    }
   ],
   "source": [
    "!pip install pyinstaller    "
   ]
  },
  {
   "cell_type": "code",
   "execution_count": 8,
   "metadata": {},
   "outputs": [
    {
     "name": "stdout",
     "output_type": "stream",
     "text": [
      "The 'pathlib' package is an obsolete backport of a standard library package and is incompatible with PyInstaller. Please remove this package (located in /Users/miguelandrade/opt/anaconda3/lib/python3.9/site-packages) using\n",
      "    conda remove\n",
      "then try again.\n"
     ]
    }
   ],
   "source": [
    "!pyinstaller --onefile crearQR.py"
   ]
  }
 ],
 "metadata": {
  "kernelspec": {
   "display_name": "base",
   "language": "python",
   "name": "python3"
  },
  "language_info": {
   "codemirror_mode": {
    "name": "ipython",
    "version": 3
   },
   "file_extension": ".py",
   "mimetype": "text/x-python",
   "name": "python",
   "nbconvert_exporter": "python",
   "pygments_lexer": "ipython3",
   "version": "3.9.13"
  },
  "orig_nbformat": 4
 },
 "nbformat": 4,
 "nbformat_minor": 2
}
